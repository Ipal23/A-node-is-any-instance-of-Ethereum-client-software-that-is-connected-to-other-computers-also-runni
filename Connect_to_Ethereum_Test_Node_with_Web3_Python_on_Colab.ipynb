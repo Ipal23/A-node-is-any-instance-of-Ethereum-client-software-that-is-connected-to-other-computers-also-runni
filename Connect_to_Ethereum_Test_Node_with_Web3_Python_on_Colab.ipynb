{
  "nbformat": 4,
  "nbformat_minor": 0,
  "metadata": {
    "colab": {
      "provenance": [],
      "authorship_tag": "ABX9TyNFhcoEn4Uvo7lI8LyTk75y",
      "include_colab_link": true
    },
    "kernelspec": {
      "name": "python3",
      "display_name": "Python 3"
    },
    "language_info": {
      "name": "python"
    }
  },
  "cells": [
    {
      "cell_type": "markdown",
      "metadata": {
        "id": "view-in-github",
        "colab_type": "text"
      },
      "source": [
        "<a href=\"https://colab.research.google.com/github/Ipal23/A-node-is-any-instance-of-Ethereum-client-software-that-is-connected-to-other-computers-also-runni/blob/main/Connect_to_Ethereum_Test_Node_with_Web3_Python_on_Colab.ipynb\" target=\"_parent\"><img src=\"https://colab.research.google.com/assets/colab-badge.svg\" alt=\"Open In Colab\"/></a>"
      ]
    },
    {
      "cell_type": "code",
      "execution_count": 1,
      "metadata": {
        "id": "7d1oFqBo8oLI"
      },
      "outputs": [],
      "source": [
        "! pip install web3"
      ]
    },
    {
      "cell_type": "code",
      "source": [
        "from web3 import Web3"
      ],
      "metadata": {
        "id": "rsbV43nQ8rVi"
      },
      "execution_count": 2,
      "outputs": []
    },
    {
      "cell_type": "code",
      "source": [
        "Web3"
      ],
      "metadata": {
        "colab": {
          "base_uri": "https://localhost:8080/"
        },
        "id": "dEw9C1g--VYY",
        "outputId": "3af08138-4273-4202-94b3-f0ff7290d88e"
      },
      "execution_count": 3,
      "outputs": [
        {
          "output_type": "execute_result",
          "data": {
            "text/plain": [
              "web3.main.Web3"
            ]
          },
          "metadata": {},
          "execution_count": 3
        }
      ]
    },
    {
      "cell_type": "code",
      "source": [
        "! pip install eth_tester"
      ],
      "metadata": {
        "colab": {
          "base_uri": "https://localhost:8080/"
        },
        "id": "C-IWwwP1-ZAK",
        "outputId": "52ad256a-4b07-4672-9976-ea838af354a5"
      },
      "execution_count": 4,
      "outputs": [
        {
          "output_type": "stream",
          "name": "stdout",
          "text": [
            "Looking in indexes: https://pypi.org/simple, https://us-python.pkg.dev/colab-wheels/public/simple/\n",
            "Requirement already satisfied: eth_tester in /usr/local/lib/python3.8/dist-packages (0.8.0b1)\n",
            "Requirement already satisfied: semantic-version<3.0.0,>=2.6.0 in /usr/local/lib/python3.8/dist-packages (from eth_tester) (2.10.0)\n",
            "Requirement already satisfied: eth-account<0.8.0,>=0.6.0 in /usr/local/lib/python3.8/dist-packages (from eth_tester) (0.7.0)\n",
            "Requirement already satisfied: eth-abi>=3.0.1 in /usr/local/lib/python3.8/dist-packages (from eth_tester) (3.0.1)\n",
            "Requirement already satisfied: rlp<4,>=3.0.0 in /usr/local/lib/python3.8/dist-packages (from eth_tester) (3.0.0)\n",
            "Requirement already satisfied: eth-keys<0.5.0,>=0.4.0 in /usr/local/lib/python3.8/dist-packages (from eth_tester) (0.4.0)\n",
            "Requirement already satisfied: eth-utils<3.0.0,>=2.0.0 in /usr/local/lib/python3.8/dist-packages (from eth_tester) (2.1.0)\n",
            "Requirement already satisfied: parsimonious<0.9.0,>=0.8.0 in /usr/local/lib/python3.8/dist-packages (from eth-abi>=3.0.1->eth_tester) (0.8.1)\n",
            "Requirement already satisfied: eth-typing<4.0.0,>=3.0.0 in /usr/local/lib/python3.8/dist-packages (from eth-abi>=3.0.1->eth_tester) (3.2.0)\n",
            "Requirement already satisfied: eth-keyfile<0.7.0,>=0.6.0 in /usr/local/lib/python3.8/dist-packages (from eth-account<0.8.0,>=0.6.0->eth_tester) (0.6.0)\n",
            "Requirement already satisfied: bitarray<3,>=2.4.0 in /usr/local/lib/python3.8/dist-packages (from eth-account<0.8.0,>=0.6.0->eth_tester) (2.6.0)\n",
            "Requirement already satisfied: hexbytes<1,>=0.1.0 in /usr/local/lib/python3.8/dist-packages (from eth-account<0.8.0,>=0.6.0->eth_tester) (0.3.0)\n",
            "Requirement already satisfied: eth-rlp<1,>=0.3.0 in /usr/local/lib/python3.8/dist-packages (from eth-account<0.8.0,>=0.6.0->eth_tester) (0.3.0)\n",
            "Requirement already satisfied: pycryptodome<4,>=3.6.6 in /usr/local/lib/python3.8/dist-packages (from eth-keyfile<0.7.0,>=0.6.0->eth-account<0.8.0,>=0.6.0->eth_tester) (3.16.0)\n",
            "Requirement already satisfied: eth-hash>=0.3.1 in /usr/local/lib/python3.8/dist-packages (from eth-utils<3.0.0,>=2.0.0->eth_tester) (0.5.1)\n",
            "Requirement already satisfied: cytoolz>=0.10.1 in /usr/local/lib/python3.8/dist-packages (from eth-utils<3.0.0,>=2.0.0->eth_tester) (0.12.0)\n",
            "Requirement already satisfied: toolz>=0.8.0 in /usr/local/lib/python3.8/dist-packages (from cytoolz>=0.10.1->eth-utils<3.0.0,>=2.0.0->eth_tester) (0.12.0)\n",
            "Requirement already satisfied: six>=1.9.0 in /usr/local/lib/python3.8/dist-packages (from parsimonious<0.9.0,>=0.8.0->eth-abi>=3.0.1->eth_tester) (1.15.0)\n"
          ]
        }
      ]
    },
    {
      "cell_type": "code",
      "source": [
        "from web3 import EthereumTesterProvider"
      ],
      "metadata": {
        "id": "MWxHkDma-yRj"
      },
      "execution_count": 6,
      "outputs": []
    },
    {
      "cell_type": "code",
      "source": [
        "EthereumTesterProvider"
      ],
      "metadata": {
        "colab": {
          "base_uri": "https://localhost:8080/"
        },
        "id": "wDtFEcOe_WM_",
        "outputId": "9941e366-1109-4845-ee6e-602f5773d984"
      },
      "execution_count": 7,
      "outputs": [
        {
          "output_type": "execute_result",
          "data": {
            "text/plain": [
              "web3.providers.eth_tester.main.EthereumTesterProvider"
            ]
          },
          "metadata": {},
          "execution_count": 7
        }
      ]
    },
    {
      "cell_type": "code",
      "source": [
        "w3 = Web3(EthereumTesterProvider())\n",
        "\n",
        "w3.isConnected()"
      ],
      "metadata": {
        "colab": {
          "base_uri": "https://localhost:8080/"
        },
        "id": "_MWva9Pj_emv",
        "outputId": "15df91dc-4bcc-4318-b81f-3a55f2c25ded"
      },
      "execution_count": 14,
      "outputs": [
        {
          "output_type": "stream",
          "name": "stderr",
          "text": [
            "/usr/local/lib/python3.8/dist-packages/eth_tester/backends/__init__.py:30: UserWarning: Ethereum Tester: No backend was explicitly set, and no *full* backends were available.  Falling back to the `MockBackend` which does not support all EVM functionality.  Please refer to the `eth-tester` documentation for information on what backends are available and how to set them.  Your py-evm package may need to be updated.\n",
            "  warnings.warn(\n"
          ]
        },
        {
          "output_type": "execute_result",
          "data": {
            "text/plain": [
              "True"
            ]
          },
          "metadata": {},
          "execution_count": 14
        }
      ]
    },
    {
      "cell_type": "code",
      "source": [],
      "metadata": {
        "id": "pBCOqSfPD3_S"
      },
      "execution_count": null,
      "outputs": []
    }
  ]
}